{
 "cells": [
  {
   "cell_type": "code",
   "execution_count": 1,
   "metadata": {},
   "outputs": [
    {
     "name": "stderr",
     "output_type": "stream",
     "text": [
      "train2012: 100%|██████████| 5717/5717 [00:08<00:00, 639.42it/s]\n",
      "val2012: 100%|██████████| 5823/5823 [00:13<00:00, 445.07it/s]\n",
      "train2007: 100%|██████████| 2501/2501 [00:04<00:00, 576.03it/s]\n",
      "val2007: 100%|██████████| 2510/2510 [00:05<00:00, 488.32it/s]\n",
      "test2007: 100%|██████████| 4952/4952 [00:10<00:00, 493.47it/s]\n"
     ]
    }
   ],
   "source": [
    "import xml.etree.ElementTree as ET\n",
    "\n",
    "from tqdm import tqdm\n",
    "from pathlib import Path\n",
    "# import yaml\n",
    "\n",
    "yaml = {}\n",
    "yaml['names'] = ['aeroplane', 'bicycle', 'bird', 'boat', 'bottle', 'bus', 'car', 'cat', 'chair', 'cow', 'diningtable', 'dog',\n",
    "        'horse', 'motorbike', 'person', 'pottedplant', 'sheep', 'sofa', 'train', 'tvmonitor']  # class names\n",
    "\n",
    "\n",
    "def convert_label(path, lb_path, year, image_id):\n",
    "    def convert_box(size, box):\n",
    "        dw, dh = 1. / size[0], 1. / size[1]\n",
    "        x, y, w, h = (box[0] + box[1]) / 2.0 - 1, (box[2] + box[3]) / 2.0 - 1, box[1] - box[0], box[3] - box[2]\n",
    "        return x * dw, y * dh, w * dw, h * dh\n",
    "\n",
    "    in_file = open(path / f'VOC{year}/Annotations/{image_id}.xml')\n",
    "    out_file = open(lb_path, 'w')\n",
    "    tree = ET.parse(in_file)\n",
    "    root = tree.getroot()\n",
    "    size = root.find('size')\n",
    "    w = int(size.find('width').text)\n",
    "    h = int(size.find('height').text)\n",
    "\n",
    "    for obj in root.iter('object'):\n",
    "        cls = obj.find('name').text\n",
    "        if cls in yaml['names'] and not int(obj.find('difficult').text) == 1:\n",
    "            xmlbox = obj.find('bndbox')\n",
    "            bb = convert_box((w, h), [float(xmlbox.find(x).text) for x in ('xmin', 'xmax', 'ymin', 'ymax')])\n",
    "            cls_id = yaml['names'].index(cls)  # class id\n",
    "            out_file.write(\" \".join([str(a) for a in (cls_id, *bb)]) + '\\n')\n",
    "\n",
    "\n",
    "# Download\n",
    "# dir = Path(yaml['path'])  # dataset root dir\n",
    "# url = 'https://github.com/ultralytics/yolov5/releases/download/v1.0/'\n",
    "# urls = [url + 'VOCtrainval_06-Nov-2007.zip',  # 446MB, 5012 images\n",
    "#         url + 'VOCtest_06-Nov-2007.zip',  # 438MB, 4953 images\n",
    "#         url + 'VOCtrainval_11-May-2012.zip']  # 1.95GB, 17126 images\n",
    "# download(urls, dir=dir / 'images', delete=False)\n",
    "\n",
    "# Convert\n",
    "dir = Path(r'C:\\Users\\Lockegogo\\Desktop\\midTerm\\datasets\\VOC')\n",
    "\n",
    "path = dir / f'images/VOCdevkit'\n",
    "for year, image_set in ('2012', 'train'), ('2012', 'val'), ('2007', 'train'), ('2007', 'val'), ('2007', 'test'):\n",
    "    imgs_path = dir / 'images' / f'{image_set}{year}'\n",
    "    lbs_path = dir / 'labels' / f'{image_set}{year}'\n",
    "    imgs_path.mkdir(exist_ok=True, parents=True)\n",
    "    lbs_path.mkdir(exist_ok=True, parents=True)\n",
    "\n",
    "    image_ids = open(path / f'VOC{year}/ImageSets/Main/{image_set}.txt').read().strip().split()\n",
    "    for id in tqdm(image_ids, desc=f'{image_set}{year}'):\n",
    "        f = path / f'VOC{year}/JPEGImages/{id}.jpg'  # old img path\n",
    "        lb_path = (lbs_path / f.name).with_suffix('.txt')  # new label path\n",
    "        f.rename(imgs_path / f.name)  # move image\n",
    "        convert_label(path, lb_path, year, id)  # convert labels to YOLO format\n"
   ]
  },
  {
   "cell_type": "code",
   "execution_count": null,
   "metadata": {},
   "outputs": [],
   "source": []
  }
 ],
 "metadata": {
  "interpreter": {
   "hash": "c3ae07b93995e50bb71287119e2028dbb16c44e45ae3a719083b6c414ea5ab0a"
  },
  "kernelspec": {
   "display_name": "Python 3.8.8 ('base')",
   "language": "python",
   "name": "python3"
  },
  "language_info": {
   "codemirror_mode": {
    "name": "ipython",
    "version": 3
   },
   "file_extension": ".py",
   "mimetype": "text/x-python",
   "name": "python",
   "nbconvert_exporter": "python",
   "pygments_lexer": "ipython3",
   "version": "3.8.8"
  },
  "orig_nbformat": 4
 },
 "nbformat": 4,
 "nbformat_minor": 2
}
